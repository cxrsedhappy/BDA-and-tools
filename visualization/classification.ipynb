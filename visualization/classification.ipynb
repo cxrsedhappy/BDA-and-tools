{
 "cells": [
  {
   "cell_type": "markdown",
   "id": "b28872e5628e018a",
   "metadata": {},
   "source": [
    "## Classification\n",
    "Задача классификации – это задача обучения с учителем, исходные данные\n",
    "размечены, то есть известны классы объектов. \n",
    "\n",
    "Основная цель классификации — это определение класса, к которому относится некоторый объект\n",
    "- логистическая регрессия;\n",
    "- Support Vector Machine (SVM);\n",
    "- дерево решений, случайный лес, градиентный бустинг;\n",
    "- k Nearest Neighbor (KNN);\n",
    "\n",
    "Метрики оценки качества модели для задачи классификации:\n",
    "- *Accuracy* Доля правильных ответов.\n",
    "- *Precision* Точность.\n",
    "- *Recall* Полнота.\n",
    "- *F-мера* Самая полезная метрика, которая совмещает в себе Precision и Recall.\n",
    "\n",
    "\n",
    "### Accuracy \n",
    "Accuracy $=\\frac{\\text { Сумма верно предсказанных }}{\\text { Количество всех объектов }}$\n",
    "\n",
    "### Precision \n",
    "\n",
    "Precision $=\\frac{T P}{T P+F P}$\n",
    "\n",
    "### Recall\n",
    "\n",
    "Recall $=\\frac{T P}{T P+F N}$\n",
    "\n",
    "### F-мера\n",
    "\n",
    "$F_\\beta=\\left(1+\\beta^2\\right) \\frac{\\text { Precision } \\cdot \\text { Recall }}{\\beta^2 \\cdot \\text { Precision }+ \\text { Recall }}$\n"
   ]
  },
  {
   "cell_type": "code",
   "id": "initial_id",
   "metadata": {
    "ExecuteTime": {
     "end_time": "2024-10-31T19:43:33.146671Z",
     "start_time": "2024-10-31T19:43:31.945224Z"
    }
   },
   "source": [
    "import numpy as np\n",
    "import pandas as pd\n",
    "\n",
    "from sklearn.model_selection import train_test_split\n",
    "\n",
    "from matplotlib import pyplot as plt\n",
    "\n",
    "from sklearn.linear_model import LogisticRegression\n",
    "from sklearn.svm import SVC\n",
    "from sklearn.neighbors import KNeighborsClassifier\n",
    "from sklearn.metrics import confusion_matrix, classification_report"
   ],
   "outputs": [],
   "execution_count": 1
  },
  {
   "cell_type": "code",
   "id": "d3a008f134e88b21",
   "metadata": {
    "ExecuteTime": {
     "end_time": "2024-10-31T19:43:33.199314Z",
     "start_time": "2024-10-31T19:43:33.149677Z"
    }
   },
   "source": [
    "data = pd.read_csv('mushroom_cleaned.csv')\n",
    "data.head()"
   ],
   "outputs": [
    {
     "data": {
      "text/plain": [
       "   cap-diameter  cap-shape  gill-attachment  gill-color  stem-height  \\\n",
       "0          1372          2                2          10     3.807467   \n",
       "1          1461          2                2          10     3.807467   \n",
       "2          1371          2                2          10     3.612496   \n",
       "3          1261          6                2          10     3.787572   \n",
       "4          1305          6                2          10     3.711971   \n",
       "\n",
       "   stem-width  stem-color    season  class  \n",
       "0        1545          11  1.804273      1  \n",
       "1        1557          11  1.804273      1  \n",
       "2        1566          11  1.804273      1  \n",
       "3        1566          11  1.804273      1  \n",
       "4        1464          11  0.943195      1  "
      ],
      "text/html": [
       "<div>\n",
       "<style scoped>\n",
       "    .dataframe tbody tr th:only-of-type {\n",
       "        vertical-align: middle;\n",
       "    }\n",
       "\n",
       "    .dataframe tbody tr th {\n",
       "        vertical-align: top;\n",
       "    }\n",
       "\n",
       "    .dataframe thead th {\n",
       "        text-align: right;\n",
       "    }\n",
       "</style>\n",
       "<table border=\"1\" class=\"dataframe\">\n",
       "  <thead>\n",
       "    <tr style=\"text-align: right;\">\n",
       "      <th></th>\n",
       "      <th>cap-diameter</th>\n",
       "      <th>cap-shape</th>\n",
       "      <th>gill-attachment</th>\n",
       "      <th>gill-color</th>\n",
       "      <th>stem-height</th>\n",
       "      <th>stem-width</th>\n",
       "      <th>stem-color</th>\n",
       "      <th>season</th>\n",
       "      <th>class</th>\n",
       "    </tr>\n",
       "  </thead>\n",
       "  <tbody>\n",
       "    <tr>\n",
       "      <th>0</th>\n",
       "      <td>1372</td>\n",
       "      <td>2</td>\n",
       "      <td>2</td>\n",
       "      <td>10</td>\n",
       "      <td>3.807467</td>\n",
       "      <td>1545</td>\n",
       "      <td>11</td>\n",
       "      <td>1.804273</td>\n",
       "      <td>1</td>\n",
       "    </tr>\n",
       "    <tr>\n",
       "      <th>1</th>\n",
       "      <td>1461</td>\n",
       "      <td>2</td>\n",
       "      <td>2</td>\n",
       "      <td>10</td>\n",
       "      <td>3.807467</td>\n",
       "      <td>1557</td>\n",
       "      <td>11</td>\n",
       "      <td>1.804273</td>\n",
       "      <td>1</td>\n",
       "    </tr>\n",
       "    <tr>\n",
       "      <th>2</th>\n",
       "      <td>1371</td>\n",
       "      <td>2</td>\n",
       "      <td>2</td>\n",
       "      <td>10</td>\n",
       "      <td>3.612496</td>\n",
       "      <td>1566</td>\n",
       "      <td>11</td>\n",
       "      <td>1.804273</td>\n",
       "      <td>1</td>\n",
       "    </tr>\n",
       "    <tr>\n",
       "      <th>3</th>\n",
       "      <td>1261</td>\n",
       "      <td>6</td>\n",
       "      <td>2</td>\n",
       "      <td>10</td>\n",
       "      <td>3.787572</td>\n",
       "      <td>1566</td>\n",
       "      <td>11</td>\n",
       "      <td>1.804273</td>\n",
       "      <td>1</td>\n",
       "    </tr>\n",
       "    <tr>\n",
       "      <th>4</th>\n",
       "      <td>1305</td>\n",
       "      <td>6</td>\n",
       "      <td>2</td>\n",
       "      <td>10</td>\n",
       "      <td>3.711971</td>\n",
       "      <td>1464</td>\n",
       "      <td>11</td>\n",
       "      <td>0.943195</td>\n",
       "      <td>1</td>\n",
       "    </tr>\n",
       "  </tbody>\n",
       "</table>\n",
       "</div>"
      ]
     },
     "execution_count": 2,
     "metadata": {},
     "output_type": "execute_result"
    }
   ],
   "execution_count": 2
  },
  {
   "cell_type": "code",
   "id": "642ce67aee0d5c56",
   "metadata": {
    "ExecuteTime": {
     "end_time": "2024-10-31T19:43:33.538498Z",
     "start_time": "2024-10-31T19:43:33.424847Z"
    }
   },
   "source": [
    "plt.figure(figsize=(10, 6))\n",
    "data['class'].value_counts().sort_index().plot(kind='bar')\n",
    "\n",
    "plt.title('Распределение классов у грибов')\n",
    "plt.xlabel('Качество')\n",
    "plt.xticks(\n",
    "    rotation=0, \n",
    "    ticks=np.arange(0, 2), \n",
    "    labels=['Добрые', 'Злые']\n",
    ")\n",
    "plt.ylabel('Количество грибочков')\n",
    "\n",
    "plt.show()"
   ],
   "outputs": [
    {
     "data": {
      "text/plain": [
       "<Figure size 1000x600 with 1 Axes>"
      ],
      "image/png": "[encoded data removed]"
     },
     "metadata": {},
     "output_type": "display_data"
    }
   ],
   "execution_count": 3
  },
  {
   "cell_type": "code",
   "id": "566425b2107fa074",
   "metadata": {
    "ExecuteTime": {
     "end_time": "2024-10-31T19:43:33.963316Z",
     "start_time": "2024-10-31T19:43:33.935468Z"
    }
   },
   "source": [
    "X = data.drop('class', axis=1)\n",
    "y = data['class']\n",
    "X_train, X_test, y_train, y_test = train_test_split(X, y, test_size=0.2, random_state=42, stratify=y)"
   ],
   "outputs": [],
   "execution_count": 4
  },
  {
   "cell_type": "code",
   "id": "996dfc041d82841f",
   "metadata": {
    "ExecuteTime": {
     "end_time": "2024-10-31T19:44:46.877497Z",
     "start_time": "2024-10-31T19:43:35.526928Z"
    }
   },
   "source": [
    "models = {\n",
    "    'Логистическая регрессия': LogisticRegression(solver='lbfgs', max_iter=500),\n",
    "    'SVM': SVC(),\n",
    "    'KNN': KNeighborsClassifier()\n",
    "}\n",
    "\n",
    "for model_name, model in models.items():\n",
    "    model.fit(X_train, y_train)\n",
    "    y_pred = model.predict(X_test)\n",
    "    print(f\"--- {model_name} ---\")\n",
    "    print(\"Матрица смешанных ошибок:\")\n",
    "    print(confusion_matrix(y_test, y_pred))\n",
    "    print(\"Отчет о классификации:\")\n",
    "    print(classification_report(y_test, y_pred))\n",
    "    print(\"Accuracy: \", model.score(X_test, y_test))"
   ],
   "outputs": [
    {
     "name": "stdout",
     "output_type": "stream",
     "text": [
      "--- Логистическая регрессия ---\n",
      "Матрица смешанных ошибок:\n",
      "[[2707 2165]\n",
      " [1691 4244]]\n",
      "Отчет о классификации:\n",
      "              precision    recall  f1-score   support\n",
      "\n",
      "           0       0.62      0.56      0.58      4872\n",
      "           1       0.66      0.72      0.69      5935\n",
      "\n",
      "    accuracy                           0.64     10807\n",
      "   macro avg       0.64      0.64      0.64     10807\n",
      "weighted avg       0.64      0.64      0.64     10807\n",
      "\n",
      "Accuracy:  0.6431942259646526\n",
      "--- SVM ---\n",
      "Матрица смешанных ошибок:\n",
      "[[2932 1940]\n",
      " [1848 4087]]\n",
      "Отчет о классификации:\n",
      "              precision    recall  f1-score   support\n",
      "\n",
      "           0       0.61      0.60      0.61      4872\n",
      "           1       0.68      0.69      0.68      5935\n",
      "\n",
      "    accuracy                           0.65     10807\n",
      "   macro avg       0.65      0.65      0.65     10807\n",
      "weighted avg       0.65      0.65      0.65     10807\n",
      "\n",
      "Accuracy:  0.6494864439714999\n",
      "--- KNN ---\n",
      "Матрица смешанных ошибок:\n",
      "[[3324 1548]\n",
      " [1572 4363]]\n",
      "Отчет о классификации:\n",
      "              precision    recall  f1-score   support\n",
      "\n",
      "           0       0.68      0.68      0.68      4872\n",
      "           1       0.74      0.74      0.74      5935\n",
      "\n",
      "    accuracy                           0.71     10807\n",
      "   macro avg       0.71      0.71      0.71     10807\n",
      "weighted avg       0.71      0.71      0.71     10807\n",
      "\n",
      "Accuracy:  0.711298232627001\n"
     ]
    }
   ],
   "execution_count": 5
  },
  {
   "metadata": {},
   "cell_type": "code",
   "outputs": [],
   "execution_count": null,
   "source": "",
   "id": "931629a963030d38"
  }
 ],
 "metadata": {
  "kernelspec": {
   "display_name": "Python 3 (ipykernel)",
   "language": "python",
   "name": "python3"
  },
  "language_info": {
   "codemirror_mode": {
    "name": "ipython",
    "version": 3
   },
   "file_extension": ".py",
   "mimetype": "text/x-python",
   "name": "python",
   "nbconvert_exporter": "python",
   "pygments_lexer": "ipython3",
   "version": "3.12.7"
  }
 },
 "nbformat": 4,
 "nbformat_minor": 5
}
