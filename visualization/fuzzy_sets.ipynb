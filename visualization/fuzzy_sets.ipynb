{
 "cells": [
  {
   "cell_type": "code",
   "id": "initial_id",
   "metadata": {
    "collapsed": true,
    "ExecuteTime": {
     "end_time": "2024-10-23T18:29:57.634129Z",
     "start_time": "2024-10-23T18:29:57.423012Z"
    }
   },
   "source": "import numpy as np",
   "outputs": [],
   "execution_count": 1
  },
  {
   "metadata": {
    "ExecuteTime": {
     "end_time": "2024-10-23T19:59:00.489690Z",
     "start_time": "2024-10-23T19:59:00.485Z"
    }
   },
   "cell_type": "code",
   "source": [
    "class FuzzySet:\n",
    "    def __init__(self, name, values):\n",
    "        self.name = name\n",
    "        self.values = values  # values should be a dictionary {element: degree}\n",
    "\n",
    "    def __repr__(self):\n",
    "        return f\"{self.name}: {self.values}\""
   ],
   "id": "5dc5f9c77e50840b",
   "outputs": [],
   "execution_count": 41
  },
  {
   "metadata": {},
   "cell_type": "markdown",
   "source": "## Fuzzy sets visualization",
   "id": "bdfd0aba25ed7328"
  },
  {
   "metadata": {
    "ExecuteTime": {
     "end_time": "2024-10-23T19:59:01.285340Z",
     "start_time": "2024-10-23T19:59:01.278616Z"
    }
   },
   "cell_type": "code",
   "source": [
    "import numpy as np\n",
    "\n",
    "class FuzzySystem:\n",
    "    def __init__(self):\n",
    "        self.fuzzy_sets = []\n",
    "    \n",
    "    def add_fuzzy_set(self, fuzzy_set):\n",
    "        self.fuzzy_sets.append(fuzzy_set)\n",
    "\n",
    "    def build_relation_matrix(self):\n",
    "        n = len(self.fuzzy_sets)\n",
    "        # Инициализируем матрицу\n",
    "        matrix = np.zeros((n, n))\n",
    "        \n",
    "        for i in range(n):\n",
    "            for j in range(n):\n",
    "                if i != j:  # Исключаем самосовпадение\n",
    "                    intersection = self.intersection(self.fuzzy_sets[i], self.fuzzy_sets[j])\n",
    "                    matrix[i][j] = intersection\n",
    "        \n",
    "        return matrix\n",
    "\n",
    "    def intersection(self, set_a, set_b):\n",
    "        intersection_value = 0\n",
    "        for element in set_a.values.keys():\n",
    "            if element in set_b.values:\n",
    "                intersection_value = max(intersection_value, min(set_a.values[element], set_b.values[element]))\n",
    "        return intersection_value"
   ],
   "id": "2cfe0f48ea5ab6a2",
   "outputs": [],
   "execution_count": 42
  },
  {
   "metadata": {
    "ExecuteTime": {
     "end_time": "2024-10-23T19:59:01.673500Z",
     "start_time": "2024-10-23T19:59:01.668204Z"
    }
   },
   "cell_type": "code",
   "source": [
    "import matplotlib.pyplot as plt\n",
    "\n",
    "def plot_relation_matrix(matrix):\n",
    "    plt.imshow(matrix, interpolation='nearest', cmap='gray')\n",
    "    plt.colorbar()\n",
    "    plt.title(\"Продукционная матрица нечётких множеств\")\n",
    "    plt.show()\n",
    "\n",
    "def fold_matrix(matrix):\n",
    "    folded_matrix = np.maximum(matrix, matrix.T)  # Применяем максимальное объединение\n",
    "    return folded_matrix\n",
    "\n",
    "def transpose_matrix(matrix):\n",
    "    return np.transpose(matrix)\n",
    "\n",
    "def complement_fuzzy_set(fuzzy_set):\n",
    "    complement_values = {element: 1 - degree for element, degree in fuzzy_set.values.items()}\n",
    "    return FuzzySet(f\"{fuzzy_set.name} (Complement)\", complement_values)\n",
    "\n",
    "def modus_ponens(p, implication):\n",
    "    if p in p.values and p[implication]:\n",
    "        return True\n",
    "    return False\n",
    "\n",
    "def modus_tollens(implication, negation_q):\n",
    "    if implication in negation_q:\n",
    "        return True\n",
    "    return False"
   ],
   "id": "903d4d0b2f7efb8",
   "outputs": [],
   "execution_count": 43
  },
  {
   "metadata": {
    "ExecuteTime": {
     "end_time": "2024-10-23T19:59:02.382906Z",
     "start_time": "2024-10-23T19:59:02.277676Z"
    }
   },
   "cell_type": "code",
   "source": [
    "fuzzy_set_1 = FuzzySet('Set 1', {'A': 0.9, 'B': 0.8})\n",
    "fuzzy_set_2 = FuzzySet('Set 2', {'B': 0.7, 'C': 0.6})\n",
    "fuzzy_set_3 = FuzzySet('Set 3', {'A': 0.5, 'C': 0.4})\n",
    "\n",
    "# System creation\n",
    "system = FuzzySystem()\n",
    "system.add_fuzzy_set(fuzzy_set_1)\n",
    "system.add_fuzzy_set(fuzzy_set_2)\n",
    "system.add_fuzzy_set(fuzzy_set_3)\n",
    "\n",
    "# Build matrix\n",
    "relation_matrix = system.build_relation_matrix()\n",
    "print(\"Матрица нечётких множеств:\")\n",
    "print(relation_matrix)\n",
    "\n",
    "# Plot matrix\n",
    "plot_relation_matrix(relation_matrix)\n",
    "\n",
    "# Fold matrix\n",
    "folded_matrix = fold_matrix(relation_matrix)\n",
    "print(\"Свёрнутая матрица:\")\n",
    "print(folded_matrix)\n",
    "\n"
   ],
   "id": "34431673a6f010ff",
   "outputs": [
    {
     "name": "stdout",
     "output_type": "stream",
     "text": [
      "Матрица нечётких множеств:\n",
      "[[0.  0.7 0.5]\n",
      " [0.7 0.  0.4]\n",
      " [0.5 0.4 0. ]]\n"
     ]
    },
    {
     "data": {
      "text/plain": [
       "<Figure size 640x480 with 2 Axes>"
      ],
      "image/png": "[encoded data removed]"
     },
     "metadata": {},
     "output_type": "display_data"
    },
    {
     "name": "stdout",
     "output_type": "stream",
     "text": [
      "Свёрнутая матрица:\n",
      "[[0.  0.7 0.5]\n",
      " [0.7 0.  0.4]\n",
      " [0.5 0.4 0. ]]\n"
     ]
    }
   ],
   "execution_count": 44
  },
  {
   "metadata": {},
   "cell_type": "code",
   "outputs": [],
   "execution_count": null,
   "source": "",
   "id": "be27fc0da7840594"
  }
 ],
 "metadata": {
  "kernelspec": {
   "display_name": "Python 3",
   "language": "python",
   "name": "python3"
  },
  "language_info": {
   "codemirror_mode": {
    "name": "ipython",
    "version": 2
   },
   "file_extension": ".py",
   "mimetype": "text/x-python",
   "name": "python",
   "nbconvert_exporter": "python",
   "pygments_lexer": "ipython2",
   "version": "2.7.6"
  }
 },
 "nbformat": 4,
 "nbformat_minor": 5
}
