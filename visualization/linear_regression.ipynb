{
 "cells": [
  {
   "metadata": {},
   "cell_type": "code",
   "source": [
    "import numpy as np\n",
    "import matplotlib.pyplot as plt"
   ],
   "id": "4bb1ed221c5d07fc",
   "outputs": [],
   "execution_count": null
  },
  {
   "metadata": {},
   "cell_type": "code",
   "source": [
    "x = np.array([120, 140, 160, 110, 150])\n",
    "y = np.array([240, 280, 80, 55, 75])\n",
    "np.corrcoef(x, y)"
   ],
   "id": "2f40ee6efcb1e500",
   "outputs": [],
   "execution_count": null
  },
  {
   "metadata": {},
   "cell_type": "code",
   "source": [
    "plt.grid()\n",
    "plt.xlabel('Число изделий изготовленных Цехом №1')\n",
    "plt.ylabel('Число изделий изготовленных Цехом №2')\n",
    "plt.scatter(x, y, marker='o', color='crimson')"
   ],
   "id": "bb114b6bf1bd70ab",
   "outputs": [],
   "execution_count": null
  },
  {
   "metadata": {},
   "cell_type": "markdown",
   "source": [
    "# Практическая работа. \n",
    "## Часть 1"
   ],
   "id": "a08be5a5d6f23ab"
  },
  {
   "metadata": {},
   "cell_type": "code",
   "source": "import pandas as pd",
   "id": "8f7e18498a58403d",
   "outputs": [],
   "execution_count": null
  },
  {
   "metadata": {},
   "cell_type": "code",
   "source": [
    "df = pd.DataFrame({\n",
    "    'Day': ['Понедельник', 'Вторник', 'Среда', 'Четверг', 'Пятница'], \n",
    "    'Street': [80, 98, 75, 91, 78],\n",
    "    'Garage': [100, 82, 105, 89, 102]\n",
    "})"
   ],
   "id": "a8a8ed8b006b6e9",
   "outputs": [],
   "execution_count": null
  },
  {
   "metadata": {},
   "cell_type": "code",
   "source": [
    "correlation = df['Street'].corr(df['Garage'], method='pearson')\n",
    "print(f'Коэффициент корреляции Пирсона: {correlation:.2f}')\n",
    "print(f'Коэффициент -1 указывает на четкую взаимосвязь между улицей и гаражами.')"
   ],
   "id": "c99707202db031ba",
   "outputs": [],
   "execution_count": null
  },
  {
   "metadata": {},
   "cell_type": "code",
   "source": "df.plot(x='Street', y='Garage', kind='scatter')",
   "id": "39c19b8ba5eb5d09",
   "outputs": [],
   "execution_count": null
  },
  {
   "metadata": {},
   "cell_type": "markdown",
   "source": "## Часть 2",
   "id": "8668cc36ac9538e"
  },
  {
   "metadata": {},
   "cell_type": "code",
   "source": [
    "import pandas as pd\n",
    "import seaborn as sns\n",
    "\n",
    "data = pd.read_csv('housing.csv')\n",
    "data.head()"
   ],
   "id": "d2fc4e8d83c01541",
   "outputs": [],
   "execution_count": null
  },
  {
   "metadata": {},
   "cell_type": "code",
   "source": [
    "print(data['ocean_proximity'].unique())\n",
    "\n",
    "def replace_ocean_proximity(value):\n",
    "    if value == '<1H OCEAN':\n",
    "        return 3\n",
    "    elif value == 'ISLAND':\n",
    "        return 2\n",
    "    elif value == 'NEAR BAY':\n",
    "        return 4\n",
    "    elif value == 'NEAR OCEAN':\n",
    "        return 1\n",
    "    else:\n",
    "        return 0\n",
    "    \n",
    "data['ocean_proximity'] = data['ocean_proximity'].apply(replace_ocean_proximity)\n",
    "print(data.isnull().sum())"
   ],
   "id": "6657a06645ba59c0",
   "outputs": [],
   "execution_count": null
  },
  {
   "metadata": {},
   "cell_type": "code",
   "source": [
    "correlation_matrix = data.corr()\n",
    "median_house_value_corr = correlation_matrix['median_house_value']\n",
    "\n",
    "# Создать cmap\n",
    "plt.figure(figsize=(10, 8))\n",
    "sns.heatmap(median_house_value_corr.to_frame(), annot=True, cmap='coolwarm', square=True)\n",
    "plt.title('Корреляция с median_house_value')\n",
    "plt.show()"
   ],
   "id": "5758f581da68a302",
   "outputs": [],
   "execution_count": null
  },
  {
   "metadata": {},
   "cell_type": "code",
   "source": [
    "X = data['median_income']\n",
    "y = data['median_house_value']\n",
    "N = len(X)\n",
    "m = (N * (X * y).sum() - X.sum() * y.sum()) / (N * (X ** 2).sum() - (X.sum()) ** 2)\n",
    "b = (y.sum() - m * X.sum()) / N"
   ],
   "id": "c5ee42337f395482",
   "outputs": [],
   "execution_count": null
  },
  {
   "metadata": {},
   "cell_type": "code",
   "source": [
    "predictions = m * X + b\n",
    "mse = ((y - predictions) ** 2).mean()\n",
    "print(f\"Наклон: {m}, Сдвиг: {b}, MSE: {mse}\")"
   ],
   "id": "b5ec98f8018f2dd7",
   "outputs": [],
   "execution_count": null
  },
  {
   "metadata": {},
   "cell_type": "code",
   "source": [
    "plt.scatter(X, y, color='blue', alpha=0.5, label='Данные')\n",
    "plt.plot(X, predictions, color='red', label='Линейная регрессия')\n",
    "plt.xlabel('Средний доход')\n",
    "plt.ylabel('Средняя стоимость жилья')\n",
    "plt.title('Линейная регрессия: Средний доход vs Средняя стоимость жилья')\n",
    "plt.legend()\n",
    "plt.show()"
   ],
   "id": "21295b9d3e01da4a",
   "outputs": [],
   "execution_count": null
  },
  {
   "metadata": {},
   "cell_type": "markdown",
   "source": "## Часть 3",
   "id": "a3f69c9fab79bcdd"
  },
  {
   "metadata": {
    "ExecuteTime": {
     "end_time": "2024-10-24T15:34:23.242434Z",
     "start_time": "2024-10-24T15:34:23.229421Z"
    }
   },
   "cell_type": "code",
   "source": [
    "data = pd.read_csv('insurance.csv')\n",
    "\n",
    "print(data.head())"
   ],
   "id": "8b9d6781df42c839",
   "outputs": [
    {
     "name": "stdout",
     "output_type": "stream",
     "text": [
      "   age     sex     bmi  children smoker     region      charges\n",
      "0   19  female  27.900         0    yes  southwest  16884.92400\n",
      "1   18    male  33.770         1     no  southeast   1725.55230\n",
      "2   28    male  33.000         3     no  southeast   4449.46200\n",
      "3   33    male  22.705         0     no  northwest  21984.47061\n",
      "4   32    male  28.880         0     no  northwest   3866.85520\n"
     ]
    }
   ],
   "execution_count": 76
  },
  {
   "metadata": {
    "ExecuteTime": {
     "end_time": "2024-10-24T15:34:47.547844Z",
     "start_time": "2024-10-24T15:34:47.535865Z"
    }
   },
   "cell_type": "code",
   "source": [
    "unique_regions = data['region'].unique()\n",
    "print(unique_regions)"
   ],
   "id": "8230c98dbbe84212",
   "outputs": [
    {
     "name": "stdout",
     "output_type": "stream",
     "text": [
      "['southwest' 'southeast' 'northwest' 'northeast']\n"
     ]
    }
   ],
   "execution_count": 78
  },
  {
   "metadata": {
    "ExecuteTime": {
     "end_time": "2024-10-24T15:35:00.726736Z",
     "start_time": "2024-10-24T15:35:00.715990Z"
    }
   },
   "cell_type": "code",
   "source": [
    "import scipy.stats as stats\n",
    "\n",
    "groups = [group['bmi'].values for name, group in data.groupby('region')]\n",
    "anova_result = stats.f_oneway(*groups)\n",
    "\n",
    "print('ANOVA test results:')\n",
    "print(f'F-statistic: {anova_result.statistic}, p-value: {anova_result.pvalue}')"
   ],
   "id": "8d4c8ff533a6fe31",
   "outputs": [
    {
     "name": "stdout",
     "output_type": "stream",
     "text": [
      "ANOVA test results:\n",
      "F-statistic: 39.49505720170283, p-value: 1.881838913929143e-24\n"
     ]
    }
   ],
   "execution_count": 79
  },
  {
   "metadata": {
    "ExecuteTime": {
     "end_time": "2024-10-24T15:47:07.711620Z",
     "start_time": "2024-10-24T15:47:07.136598Z"
    }
   },
   "cell_type": "code",
   "source": [
    "import statsmodels.api as sm\n",
    "from statsmodels.formula.api import ols\n",
    "\n",
    "model = ols('bmi ~ C(region)', data=data).fit()\n",
    "anova_table = sm.stats.anova_lm(model, typ=2)\n",
    "\n",
    "print(anova_table)"
   ],
   "id": "3a92ef318b420f34",
   "outputs": [
    {
     "name": "stdout",
     "output_type": "stream",
     "text": [
      "                 sum_sq      df          F        PR(>F)\n",
      "C(region)   4055.880631     3.0  39.495057  1.881839e-24\n",
      "Residual   45664.319755  1334.0        NaN           NaN\n"
     ]
    }
   ],
   "execution_count": 80
  },
  {
   "metadata": {
    "ExecuteTime": {
     "end_time": "2024-10-24T15:47:38.342746Z",
     "start_time": "2024-10-24T15:47:38.320760Z"
    }
   },
   "cell_type": "code",
   "source": [
    "from itertools import combinations\n",
    "\n",
    "regions = data['region'].unique()\n",
    "region_combinations = list(combinations(regions, 2))\n",
    "\n",
    "bonferroni_results = []\n",
    "\n",
    "for region1, region2 in region_combinations:\n",
    "    group1 = data[data['region'] == region1]['bmi']\n",
    "    group2 = data[data['region'] == region2]['bmi']\n",
    "    t_stat, p_val = stats.ttest_ind(group1, group2)\n",
    "    bonferroni_results.append((region1, region2, t_stat, p_val * len(region_combinations)))\n",
    "\n",
    "for result in bonferroni_results:\n",
    "    print(f'{result[0]} vs {result[1]}: t-statistic = {result[2]}, adjusted p-value = {result[3]}')"
   ],
   "id": "cd4208aa3e9b3b7f",
   "outputs": [
    {
     "name": "stdout",
     "output_type": "stream",
     "text": [
      "southwest vs southeast: t-statistic = -5.908373821545118, adjusted p-value = 3.2624405783808385e-08\n",
      "southwest vs northwest: t-statistic = 3.2844171500398582, adjusted p-value = 0.006461750977846171\n",
      "southwest vs northeast: t-statistic = 3.1169000930045923, adjusted p-value = 0.011451697002943843\n",
      "southeast vs northwest: t-statistic = 9.25649013552548, adjusted p-value = 1.5861428431380637e-18\n",
      "southeast vs northeast: t-statistic = 8.790905562598699, adjusted p-value = 7.116089624548878e-17\n",
      "northwest vs northeast: t-statistic = 0.060307727183293185, adjusted p-value = 5.711575024931184\n"
     ]
    }
   ],
   "execution_count": 81
  },
  {
   "metadata": {
    "ExecuteTime": {
     "end_time": "2024-10-24T15:47:57.880092Z",
     "start_time": "2024-10-24T15:47:57.565166Z"
    }
   },
   "cell_type": "code",
   "source": [
    "from statsmodels.stats.multicomp import pairwise_tukeyhsd\n",
    "import matplotlib.pyplot as plt\n",
    "\n",
    "tukey_result = pairwise_tukeyhsd(data['bmi'], data['region'])\n",
    "print(tukey_result)\n",
    "\n",
    "tukey_result.plot_simultaneous()\n",
    "plt.show()"
   ],
   "id": "22ff4cd304c1d4e2",
   "outputs": [
    {
     "name": "stdout",
     "output_type": "stream",
     "text": [
      "   Multiple Comparison of Means - Tukey HSD, FWER=0.05    \n",
      "==========================================================\n",
      "  group1    group2  meandiff p-adj   lower   upper  reject\n",
      "----------------------------------------------------------\n",
      "northeast northwest   0.0263 0.9999 -1.1552  1.2078  False\n",
      "northeast southeast   4.1825    0.0   3.033   5.332   True\n",
      "northeast southwest   1.4231 0.0107  0.2416  2.6046   True\n",
      "northwest southeast   4.1562    0.0  3.0077  5.3047   True\n",
      "northwest southwest   1.3968 0.0127  0.2162  2.5774   True\n",
      "southeast southwest  -2.7594    0.0 -3.9079 -1.6108   True\n",
      "----------------------------------------------------------\n"
     ]
    },
    {
     "data": {
      "text/plain": [
       "<Figure size 1000x600 with 1 Axes>"
      ],
      "image/png": "[encoded data removed]"
     },
     "metadata": {},
     "output_type": "display_data"
    }
   ],
   "execution_count": 82
  },
  {
   "metadata": {
    "ExecuteTime": {
     "end_time": "2024-10-24T15:48:12.271338Z",
     "start_time": "2024-10-24T15:48:12.223742Z"
    }
   },
   "cell_type": "code",
   "source": [
    "model_two_way = ols('bmi ~ C(region) + C(sex) + C(region):C(sex)', data=data).fit()\n",
    "anova_two_way = sm.stats.anova_lm(model_two_way, typ=2)\n",
    "\n",
    "print(anova_two_way)"
   ],
   "id": "a044f566aa2a36c9",
   "outputs": [
    {
     "name": "stdout",
     "output_type": "stream",
     "text": [
      "                        sum_sq      df          F        PR(>F)\n",
      "C(region)          4034.975135     3.0  39.398134  2.163195e-24\n",
      "C(sex)               86.007035     1.0   2.519359  1.126940e-01\n",
      "C(region):C(sex)    174.157808     3.0   1.700504  1.650655e-01\n",
      "Residual          45404.154911  1330.0        NaN           NaN\n"
     ]
    }
   ],
   "execution_count": 83
  },
  {
   "metadata": {},
   "cell_type": "code",
   "outputs": [],
   "execution_count": null,
   "source": "",
   "id": "2c656da03a643f0"
  }
 ],
 "metadata": {
  "kernelspec": {
   "display_name": "Python 3",
   "language": "python",
   "name": "python3"
  },
  "language_info": {
   "codemirror_mode": {
    "name": "ipython",
    "version": 2
   },
   "file_extension": ".py",
   "mimetype": "text/x-python",
   "name": "python",
   "nbconvert_exporter": "python",
   "pygments_lexer": "ipython2",
   "version": "2.7.6"
  }
 },
 "nbformat": 4,
 "nbformat_minor": 5
}
