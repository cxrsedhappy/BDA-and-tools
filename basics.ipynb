{
 "cells": [
  {
   "cell_type": "code",
   "execution_count": 7,
   "metadata": {
    "collapsed": true,
    "ExecuteTime": {
     "start_time": "2024-09-02T20:31:53.177770Z",
     "end_time": "2024-09-02T20:31:53.199198Z"
    }
   },
   "outputs": [
    {
     "name": "stdout",
     "output_type": "stream",
     "text": [
      "{'Triangle': '15.0', 'Rectangle': '25', 'Square': '56.54862'}\n"
     ]
    }
   ],
   "source": [
    "class Object:\n",
    "    def __init__(self):\n",
    "        ...\n",
    "\n",
    "    def calculate(self) -> float:\n",
    "        ...\n",
    "\n",
    "\n",
    "class Triangle(Object):\n",
    "    def __init__(self, h: float, side: float):\n",
    "        super().__init__()\n",
    "        self._h = h\n",
    "        self._side = side\n",
    "\n",
    "    def calculate(self):\n",
    "        return f'{(self._h * self._side) / 2}'\n",
    "\n",
    "\n",
    "class Rectangle(Object):\n",
    "    def __init__(self, h: float, w: float):\n",
    "        super().__init__()\n",
    "        self._h = h\n",
    "        self._w = w\n",
    "\n",
    "    def calculate(self):\n",
    "        return f'{self._h * self._w}'\n",
    "\n",
    "\n",
    "class Square(Object):\n",
    "    def __init__(self, r: float):\n",
    "        super().__init__()\n",
    "        self.pi = 3.14159\n",
    "        self._r = r\n",
    "\n",
    "    def calculate(self):\n",
    "        return f'{2 * self.pi * (self._r * self._r )}'\n",
    "\n",
    "\n",
    "d = {}\n",
    "objects = [Triangle(3, 10), Rectangle(5, 5), Square(3)]\n",
    "for obj in objects:\n",
    "    d[obj.__class__.__name__] = obj.calculate()\n",
    "\n",
    "print(d)\n"
   ]
  },
  {
   "cell_type": "code",
   "execution_count": 9,
   "outputs": [
    {
     "name": "stdout",
     "output_type": "stream",
     "text": [
      "20\n"
     ]
    }
   ],
   "source": [
    "a = input()\n",
    "op = input()\n",
    "b = input()\n",
    "print(eval(f'{a}{op}{b}'))"
   ],
   "metadata": {
    "collapsed": false,
    "ExecuteTime": {
     "start_time": "2024-09-02T20:35:10.032589Z",
     "end_time": "2024-09-02T20:35:20.282655Z"
    }
   }
  },
  {
   "cell_type": "code",
   "execution_count": 13,
   "outputs": [
    {
     "name": "stdout",
     "output_type": "stream",
     "text": [
      "[100, 64, 4]\n"
     ]
    }
   ],
   "source": [
    "a = [int(input())]\n",
    "while sum(a) != 0:\n",
    "    a.append(int(input()))\n",
    "else:\n",
    "    print([n ** 2 for n in a])"
   ],
   "metadata": {
    "collapsed": false,
    "ExecuteTime": {
     "start_time": "2024-09-02T20:43:26.487194Z",
     "end_time": "2024-09-02T20:43:31.603422Z"
    }
   }
  },
  {
   "cell_type": "code",
   "execution_count": 16,
   "outputs": [
    {
     "name": "stdout",
     "output_type": "stream",
     "text": [
      "1 2 2 3 3 3 4 4 4\n"
     ]
    }
   ],
   "source": [
    "n = int(input())\n",
    "a = []\n",
    "for i in range(1, n + 1):\n",
    "    a.extend([i] * i)\n",
    "print(*a[:n])"
   ],
   "metadata": {
    "collapsed": false,
    "ExecuteTime": {
     "start_time": "2024-09-02T20:49:19.059269Z",
     "end_time": "2024-09-02T20:49:20.415210Z"
    }
   }
  },
  {
   "cell_type": "code",
   "execution_count": 13,
   "outputs": [
    {
     "name": "stdout",
     "output_type": "stream",
     "text": [
      "{'a': 17, 'b': 11, 'c': 17}\n"
     ]
    }
   ],
   "source": [
    "a = [1, 2, 3, 4, 2, 1, 3, 4, 5, 6, 5, 4, 3, 2]\n",
    "b = ['a', 'b', 'c', 'c', 'c', 'b', 'a', 'c', 'a', 'a', 'b', 'c', 'b', 'a']\n",
    "\n",
    "result = {}\n",
    "for k, v in zip(b, a):\n",
    "    if k in result:\n",
    "        result[k] += v\n",
    "    else:\n",
    "        result[k] = v\n",
    "\n",
    "print(result)"
   ],
   "metadata": {
    "collapsed": false,
    "ExecuteTime": {
     "start_time": "2024-09-02T21:09:35.080509Z",
     "end_time": "2024-09-02T21:09:35.118149Z"
    }
   }
  },
  {
   "cell_type": "code",
   "execution_count": 20,
   "outputs": [
    {
     "name": "stdout",
     "output_type": "stream",
     "text": [
      "<class 'pandas.core.frame.DataFrame'>\n",
      "RangeIndex: 20640 entries, 0 to 20639\n",
      "Data columns (total 10 columns):\n",
      " #   Column       Non-Null Count  Dtype  \n",
      "---  ------       --------------  -----  \n",
      " 0   MedInc       20640 non-null  float64\n",
      " 1   HouseAge     20640 non-null  float64\n",
      " 2   AveRooms     20640 non-null  float64\n",
      " 3   AveBedrms    20640 non-null  float64\n",
      " 4   Population   20640 non-null  float64\n",
      " 5   AveOccup     20640 non-null  float64\n",
      " 6   Latitude     20640 non-null  float64\n",
      " 7   Longitude    20640 non-null  float64\n",
      " 8   MedHouseVal  20640 non-null  float64\n",
      " 9   target       20640 non-null  float64\n",
      "dtypes: float64(10)\n",
      "memory usage: 1.6 MB\n"
     ]
    }
   ],
   "source": [
    "import pandas as pd\n",
    "from sklearn.datasets import fetch_california_housing\n",
    "\n",
    "california_housing = fetch_california_housing(as_frame=True)\n",
    "\n",
    "df = california_housing.frame\n",
    "df['target'] = california_housing.target\n",
    "\n",
    "df.info()"
   ],
   "metadata": {
    "collapsed": false,
    "ExecuteTime": {
     "start_time": "2024-09-02T21:10:20.797783Z",
     "end_time": "2024-09-02T21:10:20.869578Z"
    }
   }
  },
  {
   "cell_type": "code",
   "execution_count": 23,
   "outputs": [
    {
     "data": {
      "text/plain": "   MedInc  HouseAge  AveRooms  AveBedrms  Population  AveOccup  Latitude  \\\n0  8.3252      41.0  6.984127   1.023810       322.0  2.555556     37.88   \n1  8.3014      21.0  6.238137   0.971880      2401.0  2.109842     37.86   \n2  7.2574      52.0  8.288136   1.073446       496.0  2.802260     37.85   \n3  5.6431      52.0  5.817352   1.073059       558.0  2.547945     37.85   \n4  3.8462      52.0  6.281853   1.081081       565.0  2.181467     37.85   \n\n   Longitude  MedHouseVal  target  \n0    -122.23        4.526   4.526  \n1    -122.22        3.585   3.585  \n2    -122.24        3.521   3.521  \n3    -122.25        3.413   3.413  \n4    -122.25        3.422   3.422  ",
      "text/html": "<div>\n<style scoped>\n    .dataframe tbody tr th:only-of-type {\n        vertical-align: middle;\n    }\n\n    .dataframe tbody tr th {\n        vertical-align: top;\n    }\n\n    .dataframe thead th {\n        text-align: right;\n    }\n</style>\n<table border=\"1\" class=\"dataframe\">\n  <thead>\n    <tr style=\"text-align: right;\">\n      <th></th>\n      <th>MedInc</th>\n      <th>HouseAge</th>\n      <th>AveRooms</th>\n      <th>AveBedrms</th>\n      <th>Population</th>\n      <th>AveOccup</th>\n      <th>Latitude</th>\n      <th>Longitude</th>\n      <th>MedHouseVal</th>\n      <th>target</th>\n    </tr>\n  </thead>\n  <tbody>\n    <tr>\n      <th>0</th>\n      <td>8.3252</td>\n      <td>41.0</td>\n      <td>6.984127</td>\n      <td>1.023810</td>\n      <td>322.0</td>\n      <td>2.555556</td>\n      <td>37.88</td>\n      <td>-122.23</td>\n      <td>4.526</td>\n      <td>4.526</td>\n    </tr>\n    <tr>\n      <th>1</th>\n      <td>8.3014</td>\n      <td>21.0</td>\n      <td>6.238137</td>\n      <td>0.971880</td>\n      <td>2401.0</td>\n      <td>2.109842</td>\n      <td>37.86</td>\n      <td>-122.22</td>\n      <td>3.585</td>\n      <td>3.585</td>\n    </tr>\n    <tr>\n      <th>2</th>\n      <td>7.2574</td>\n      <td>52.0</td>\n      <td>8.288136</td>\n      <td>1.073446</td>\n      <td>496.0</td>\n      <td>2.802260</td>\n      <td>37.85</td>\n      <td>-122.24</td>\n      <td>3.521</td>\n      <td>3.521</td>\n    </tr>\n    <tr>\n      <th>3</th>\n      <td>5.6431</td>\n      <td>52.0</td>\n      <td>5.817352</td>\n      <td>1.073059</td>\n      <td>558.0</td>\n      <td>2.547945</td>\n      <td>37.85</td>\n      <td>-122.25</td>\n      <td>3.413</td>\n      <td>3.413</td>\n    </tr>\n    <tr>\n      <th>4</th>\n      <td>3.8462</td>\n      <td>52.0</td>\n      <td>6.281853</td>\n      <td>1.081081</td>\n      <td>565.0</td>\n      <td>2.181467</td>\n      <td>37.85</td>\n      <td>-122.25</td>\n      <td>3.422</td>\n      <td>3.422</td>\n    </tr>\n  </tbody>\n</table>\n</div>"
     },
     "execution_count": 23,
     "metadata": {},
     "output_type": "execute_result"
    }
   ],
   "source": [
    "df.head()"
   ],
   "metadata": {
    "collapsed": false,
    "ExecuteTime": {
     "start_time": "2024-09-02T21:10:34.964373Z",
     "end_time": "2024-09-02T21:10:35.016631Z"
    }
   }
  },
  {
   "cell_type": "code",
   "execution_count": 21,
   "outputs": [
    {
     "data": {
      "text/plain": "MedInc         0\nHouseAge       0\nAveRooms       0\nAveBedrms      0\nPopulation     0\nAveOccup       0\nLatitude       0\nLongitude      0\nMedHouseVal    0\ntarget         0\ndtype: int64"
     },
     "execution_count": 21,
     "metadata": {},
     "output_type": "execute_result"
    }
   ],
   "source": [
    "df.isna().sum()"
   ],
   "metadata": {
    "collapsed": false,
    "ExecuteTime": {
     "start_time": "2024-09-02T21:10:22.956603Z",
     "end_time": "2024-09-02T21:10:22.983041Z"
    }
   }
  },
  {
   "cell_type": "code",
   "execution_count": 25,
   "outputs": [
    {
     "data": {
      "text/plain": "       MedInc  HouseAge  AveRooms  AveBedrms  Population    AveOccup  \\\n460    1.4012      52.0  3.105714   1.060000      3337.0    9.534286   \n4131   3.5349      52.0  4.646119   1.047945      2589.0    5.910959   \n4440   2.6806      52.0  4.806283   1.057592      3062.0    4.007853   \n5986   1.8750      52.0  4.500000   1.206349      2688.0   21.333333   \n7369   3.1901      52.0  4.730942   1.017937      3731.0    4.182735   \n8227   2.3305      52.0  3.488860   1.170380      3018.0    3.955439   \n13034  6.1359      52.0  8.275862   1.517241      6675.0  230.172414   \n15634  1.8295      52.0  2.628169   1.053521      2957.0    4.164789   \n15652  0.9000      52.0  2.237474   1.053535      3260.0    2.237474   \n15657  2.5166      52.0  2.839075   1.184049      3436.0    1.621520   \n15659  1.7240      52.0  2.278566   1.082348      4518.0    1.780142   \n15795  2.5755      52.0  3.402576   1.058776      2619.0    2.108696   \n15868  2.8135      52.0  4.584329   1.041169      2987.0    3.966799   \n\n       Latitude  Longitude  MedHouseVal   target  \n460       37.87    -122.26      1.75000  1.75000  \n4131      34.13    -118.20      1.93600  1.93600  \n4440      34.08    -118.21      1.53000  1.53000  \n5986      34.10    -117.71      2.12500  2.12500  \n7369      33.97    -118.21      1.67600  1.67600  \n8227      33.78    -118.20      1.62500  1.62500  \n13034     38.69    -121.15      2.25000  2.25000  \n15634     37.80    -122.41      2.43800  2.43800  \n15652     37.80    -122.41      5.00001  5.00001  \n15657     37.79    -122.41      2.75000  2.75000  \n15659     37.79    -122.41      2.25000  2.25000  \n15795     37.77    -122.42      3.25000  3.25000  \n15868     37.76    -122.41      2.60300  2.60300  ",
      "text/html": "<div>\n<style scoped>\n    .dataframe tbody tr th:only-of-type {\n        vertical-align: middle;\n    }\n\n    .dataframe tbody tr th {\n        vertical-align: top;\n    }\n\n    .dataframe thead th {\n        text-align: right;\n    }\n</style>\n<table border=\"1\" class=\"dataframe\">\n  <thead>\n    <tr style=\"text-align: right;\">\n      <th></th>\n      <th>MedInc</th>\n      <th>HouseAge</th>\n      <th>AveRooms</th>\n      <th>AveBedrms</th>\n      <th>Population</th>\n      <th>AveOccup</th>\n      <th>Latitude</th>\n      <th>Longitude</th>\n      <th>MedHouseVal</th>\n      <th>target</th>\n    </tr>\n  </thead>\n  <tbody>\n    <tr>\n      <th>460</th>\n      <td>1.4012</td>\n      <td>52.0</td>\n      <td>3.105714</td>\n      <td>1.060000</td>\n      <td>3337.0</td>\n      <td>9.534286</td>\n      <td>37.87</td>\n      <td>-122.26</td>\n      <td>1.75000</td>\n      <td>1.75000</td>\n    </tr>\n    <tr>\n      <th>4131</th>\n      <td>3.5349</td>\n      <td>52.0</td>\n      <td>4.646119</td>\n      <td>1.047945</td>\n      <td>2589.0</td>\n      <td>5.910959</td>\n      <td>34.13</td>\n      <td>-118.20</td>\n      <td>1.93600</td>\n      <td>1.93600</td>\n    </tr>\n    <tr>\n      <th>4440</th>\n      <td>2.6806</td>\n      <td>52.0</td>\n      <td>4.806283</td>\n      <td>1.057592</td>\n      <td>3062.0</td>\n      <td>4.007853</td>\n      <td>34.08</td>\n      <td>-118.21</td>\n      <td>1.53000</td>\n      <td>1.53000</td>\n    </tr>\n    <tr>\n      <th>5986</th>\n      <td>1.8750</td>\n      <td>52.0</td>\n      <td>4.500000</td>\n      <td>1.206349</td>\n      <td>2688.0</td>\n      <td>21.333333</td>\n      <td>34.10</td>\n      <td>-117.71</td>\n      <td>2.12500</td>\n      <td>2.12500</td>\n    </tr>\n    <tr>\n      <th>7369</th>\n      <td>3.1901</td>\n      <td>52.0</td>\n      <td>4.730942</td>\n      <td>1.017937</td>\n      <td>3731.0</td>\n      <td>4.182735</td>\n      <td>33.97</td>\n      <td>-118.21</td>\n      <td>1.67600</td>\n      <td>1.67600</td>\n    </tr>\n    <tr>\n      <th>8227</th>\n      <td>2.3305</td>\n      <td>52.0</td>\n      <td>3.488860</td>\n      <td>1.170380</td>\n      <td>3018.0</td>\n      <td>3.955439</td>\n      <td>33.78</td>\n      <td>-118.20</td>\n      <td>1.62500</td>\n      <td>1.62500</td>\n    </tr>\n    <tr>\n      <th>13034</th>\n      <td>6.1359</td>\n      <td>52.0</td>\n      <td>8.275862</td>\n      <td>1.517241</td>\n      <td>6675.0</td>\n      <td>230.172414</td>\n      <td>38.69</td>\n      <td>-121.15</td>\n      <td>2.25000</td>\n      <td>2.25000</td>\n    </tr>\n    <tr>\n      <th>15634</th>\n      <td>1.8295</td>\n      <td>52.0</td>\n      <td>2.628169</td>\n      <td>1.053521</td>\n      <td>2957.0</td>\n      <td>4.164789</td>\n      <td>37.80</td>\n      <td>-122.41</td>\n      <td>2.43800</td>\n      <td>2.43800</td>\n    </tr>\n    <tr>\n      <th>15652</th>\n      <td>0.9000</td>\n      <td>52.0</td>\n      <td>2.237474</td>\n      <td>1.053535</td>\n      <td>3260.0</td>\n      <td>2.237474</td>\n      <td>37.80</td>\n      <td>-122.41</td>\n      <td>5.00001</td>\n      <td>5.00001</td>\n    </tr>\n    <tr>\n      <th>15657</th>\n      <td>2.5166</td>\n      <td>52.0</td>\n      <td>2.839075</td>\n      <td>1.184049</td>\n      <td>3436.0</td>\n      <td>1.621520</td>\n      <td>37.79</td>\n      <td>-122.41</td>\n      <td>2.75000</td>\n      <td>2.75000</td>\n    </tr>\n    <tr>\n      <th>15659</th>\n      <td>1.7240</td>\n      <td>52.0</td>\n      <td>2.278566</td>\n      <td>1.082348</td>\n      <td>4518.0</td>\n      <td>1.780142</td>\n      <td>37.79</td>\n      <td>-122.41</td>\n      <td>2.25000</td>\n      <td>2.25000</td>\n    </tr>\n    <tr>\n      <th>15795</th>\n      <td>2.5755</td>\n      <td>52.0</td>\n      <td>3.402576</td>\n      <td>1.058776</td>\n      <td>2619.0</td>\n      <td>2.108696</td>\n      <td>37.77</td>\n      <td>-122.42</td>\n      <td>3.25000</td>\n      <td>3.25000</td>\n    </tr>\n    <tr>\n      <th>15868</th>\n      <td>2.8135</td>\n      <td>52.0</td>\n      <td>4.584329</td>\n      <td>1.041169</td>\n      <td>2987.0</td>\n      <td>3.966799</td>\n      <td>37.76</td>\n      <td>-122.41</td>\n      <td>2.60300</td>\n      <td>2.60300</td>\n    </tr>\n  </tbody>\n</table>\n</div>"
     },
     "execution_count": 25,
     "metadata": {},
     "output_type": "execute_result"
    }
   ],
   "source": [
    "df.loc[(df['HouseAge'] > 50) & (df['Population'] > 2500)]"
   ],
   "metadata": {
    "collapsed": false,
    "ExecuteTime": {
     "start_time": "2024-09-02T21:11:49.389259Z",
     "end_time": "2024-09-02T21:11:49.415237Z"
    }
   }
  },
  {
   "cell_type": "code",
   "execution_count": 27,
   "outputs": [
    {
     "data": {
      "text/plain": "MedInc            3.534800\nHouseAge         29.000000\nAveRooms          5.229129\nAveBedrms         1.048780\nPopulation     1166.000000\nAveOccup          2.818116\nLatitude         34.260000\nLongitude      -118.490000\nMedHouseVal       1.797000\ntarget            1.797000\ndtype: float64"
     },
     "execution_count": 27,
     "metadata": {},
     "output_type": "execute_result"
    }
   ],
   "source": [
    "df.median()"
   ],
   "metadata": {
    "collapsed": false,
    "ExecuteTime": {
     "start_time": "2024-09-02T21:13:59.298629Z",
     "end_time": "2024-09-02T21:13:59.333785Z"
    }
   }
  },
  {
   "cell_type": "code",
   "execution_count": 29,
   "outputs": [
    {
     "data": {
      "text/plain": "(0.14999, 5.00001)"
     },
     "execution_count": 29,
     "metadata": {},
     "output_type": "execute_result"
    }
   ],
   "source": [
    "df['target'].min(), df['target'].max()"
   ],
   "metadata": {
    "collapsed": false,
    "ExecuteTime": {
     "start_time": "2024-09-02T21:14:54.503504Z",
     "end_time": "2024-09-02T21:14:54.523621Z"
    }
   }
  },
  {
   "cell_type": "code",
   "execution_count": 30,
   "outputs": [
    {
     "data": {
      "text/plain": "MedInc            3.870671\nHouseAge         28.639486\nAveRooms          5.429000\nAveBedrms         1.096675\nPopulation     1425.476744\nAveOccup          3.070655\nLatitude         35.631861\nLongitude      -119.569704\nMedHouseVal       2.068558\ntarget            2.068558\ndtype: float64"
     },
     "execution_count": 30,
     "metadata": {},
     "output_type": "execute_result"
    }
   ],
   "source": [
    "df.apply(lambda x: x.mean())"
   ],
   "metadata": {
    "collapsed": false,
    "ExecuteTime": {
     "start_time": "2024-09-02T21:16:09.973245Z",
     "end_time": "2024-09-02T21:16:10.023021Z"
    }
   }
  },
  {
   "cell_type": "markdown",
   "source": [
    "## 1"
   ],
   "metadata": {
    "collapsed": false
   }
  },
  {
   "cell_type": "code",
   "execution_count": null,
   "outputs": [],
   "source": [],
   "metadata": {
    "collapsed": false
   }
  },
  {
   "cell_type": "code",
   "execution_count": 14,
   "outputs": [
    {
     "name": "stdout",
     "output_type": "stream",
     "text": [
      ".. --. -. .. - .. --- -. \n",
      "… . --.- ..- . -. -.-. . \n",
      "… - .- .-. - \n"
     ]
    }
   ],
   "source": [
    "morse = {\n",
    "    'a': '.-', 'b': '-…', 'c': '-.-.', 'd': '-..',\n",
    "    'e': '.', 'f': '..-.', 'g': '--.', 'h': '….',\n",
    "    'i': '..', 'j': '.---', 'k': '-.-', 'l': '.-..',\n",
    "    'm': '--', 'n': '-.', 'o': '---', 'p': '.--.',\n",
    "    'q': '--.-', 'r': '.-.', 's': '…', 't': '-',\n",
    "    'u': '..-', 'v': '…-', 'w': '.--', 'x': '-..-',\n",
    "    'y': '-.--', 'z': '--..'\n",
    "}\n",
    "\n",
    "line = input().split()\n",
    "for word in line:\n",
    "    for char in word:\n",
    "        print(morse[char.lower()], end=' ')\n",
    "    print()\n"
   ],
   "metadata": {
    "collapsed": false,
    "ExecuteTime": {
     "start_time": "2024-09-03T16:41:21.394754Z",
     "end_time": "2024-09-03T16:41:22.373277Z"
    }
   }
  },
  {
   "cell_type": "markdown",
   "source": [
    "## 2"
   ],
   "metadata": {
    "collapsed": false
   }
  },
  {
   "cell_type": "code",
   "execution_count": 5,
   "outputs": [
    {
     "name": "stdout",
     "output_type": "stream",
     "text": [
      "OK\n",
      "asd1\n",
      "OK\n",
      "qwe1\n",
      "OK\n"
     ]
    }
   ],
   "source": [
    "db = []\n",
    "for i in range(int(input())):\n",
    "    name = input()\n",
    "    postfix = ''\n",
    "    if name in db:\n",
    "        postfix = 1\n",
    "        while f'{name}{postfix}' in db:\n",
    "            postfix += 1\n",
    "        print(f'{name}{postfix}')\n",
    "    else:\n",
    "        print('OK')\n",
    "    db.append(f'{name}{postfix}')\n"
   ],
   "metadata": {
    "collapsed": false,
    "ExecuteTime": {
     "start_time": "2024-09-03T14:20:05.272950Z",
     "end_time": "2024-09-03T14:20:13.119053Z"
    }
   }
  },
  {
   "cell_type": "markdown",
   "source": [
    "## 3"
   ],
   "metadata": {
    "collapsed": false
   }
  },
  {
   "cell_type": "code",
   "execution_count": 11,
   "outputs": [
    {
     "name": "stdout",
     "output_type": "stream",
     "text": [
      "OK\n"
     ]
    }
   ],
   "source": [
    "commands = {\n",
    "    'read': 'r',\n",
    "    'write': 'w',\n",
    "    'execute': 'x'\n",
    "}\n",
    "\n",
    "cache = {}\n",
    "for i in range(int(input())):\n",
    "    line = input().split()\n",
    "    cache[line[0]] = line[1:]\n",
    "\n",
    "for i in range(int(input())):\n",
    "    op, file = input().split()\n",
    "    op = commands[op]\n",
    "    if op in cache[file]:\n",
    "        print('OK')\n",
    "    else:\n",
    "        print('Access denied!')\n"
   ],
   "metadata": {
    "collapsed": false,
    "ExecuteTime": {
     "start_time": "2024-09-03T14:29:34.754645Z",
     "end_time": "2024-09-03T14:29:44.404616Z"
    }
   }
  },
  {
   "cell_type": "code",
   "execution_count": 15,
   "outputs": [
    {
     "name": "stdout",
     "output_type": "stream",
     "text": [
      "6.0\n"
     ]
    }
   ],
   "source": [
    "print(36 / 6)"
   ],
   "metadata": {
    "collapsed": false,
    "ExecuteTime": {
     "start_time": "2024-09-03T16:46:12.379002Z",
     "end_time": "2024-09-03T16:46:12.396952Z"
    }
   }
  },
  {
   "cell_type": "code",
   "execution_count": null,
   "outputs": [],
   "source": [],
   "metadata": {
    "collapsed": false
   }
  }
 ],
 "metadata": {
  "kernelspec": {
   "display_name": "Python 3",
   "language": "python",
   "name": "python3"
  },
  "language_info": {
   "codemirror_mode": {
    "name": "ipython",
    "version": 2
   },
   "file_extension": ".py",
   "mimetype": "text/x-python",
   "name": "python",
   "nbconvert_exporter": "python",
   "pygments_lexer": "ipython2",
   "version": "2.7.6"
  }
 },
 "nbformat": 4,
 "nbformat_minor": 0
}
